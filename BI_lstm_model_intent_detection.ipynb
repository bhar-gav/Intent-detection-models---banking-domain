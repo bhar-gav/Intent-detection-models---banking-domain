{
  "nbformat": 4,
  "nbformat_minor": 0,
  "metadata": {
    "colab": {
      "provenance": [],
      "include_colab_link": true
    },
    "kernelspec": {
      "name": "python3",
      "display_name": "Python 3"
    },
    "language_info": {
      "name": "python"
    }
  },
  "cells": [
    {
      "cell_type": "markdown",
      "metadata": {
        "id": "view-in-github",
        "colab_type": "text"
      },
      "source": [
        "<a href=\"https://colab.research.google.com/github/bhar-gav/Intent-detection-models---banking-domain/blob/main/BI_lstm_model_intent_detection.ipynb\" target=\"_parent\"><img src=\"https://colab.research.google.com/assets/colab-badge.svg\" alt=\"Open In Colab\"/></a>"
      ]
    },
    {
      "cell_type": "markdown",
      "source": [
        "Import Libraries"
      ],
      "metadata": {
        "id": "tf-12NCNYTET"
      }
    },
    {
      "cell_type": "code",
      "source": [
        "from google.colab import drive\n",
        "drive.mount(\"/content/drive\")\n",
        "\n",
        "import os\n",
        "print(os.getcwd())\n",
        "datasets=\"/content/drive/My Drive/Colab Notebooks/final-year/Nlp/\"\n",
        "os.chdir(datasets)\n",
        "print(os.getcwd())"
      ],
      "metadata": {
        "id": "c7np3u_akH4R",
        "colab": {
          "base_uri": "https://localhost:8080/"
        },
        "outputId": "3121d469-6801-4257-df2c-eca894ed970d"
      },
      "execution_count": 1,
      "outputs": [
        {
          "output_type": "stream",
          "name": "stdout",
          "text": [
            "Mounted at /content/drive\n",
            "/content\n",
            "/content/drive/My Drive/Colab Notebooks/final-year/Nlp\n"
          ]
        }
      ]
    },
    {
      "cell_type": "code",
      "execution_count": 2,
      "metadata": {
        "id": "pyxwuqb8XD9T"
      },
      "outputs": [],
      "source": [
        "import tensorflow as tf\n",
        "from tensorflow.keras.preprocessing.text import Tokenizer\n",
        "from tensorflow.keras.preprocessing.sequence import pad_sequences\n",
        "import numpy as np\n",
        "import random\n",
        "import json\n",
        "\n",
        "import warnings\n",
        "warnings.filterwarnings('ignore')\n"
      ]
    },
    {
      "cell_type": "markdown",
      "source": [
        "Data Collection:"
      ],
      "metadata": {
        "id": "wfz_UdNgYXil"
      }
    },
    {
      "cell_type": "code",
      "source": [
        "with open('Intent.json', 'r') as f:\n",
        "\tdata = json.load(f)\n",
        "\n",
        "print(data.keys())\n",
        "print(type(data['intents']))\n",
        "print(len(data['intents']))\n",
        "print(data['intents'][0].keys())\n",
        "data['intents'][-1]\n"
      ],
      "metadata": {
        "colab": {
          "base_uri": "https://localhost:8080/"
        },
        "id": "onndG4I8XS2z",
        "outputId": "cb657011-a842-4171-88de-3a78e5ddc508"
      },
      "execution_count": 6,
      "outputs": [
        {
          "output_type": "stream",
          "name": "stdout",
          "text": [
            "dict_keys(['intents'])\n",
            "<class 'list'>\n",
            "22\n",
            "dict_keys(['intent', 'text', 'responses', 'extension', 'context', 'entityType', 'entities'])\n"
          ]
        },
        {
          "output_type": "execute_result",
          "data": {
            "text/plain": [
              "{'intent': 'SelfAware',\n",
              " 'text': ['Can you prove you are self-aware',\n",
              "  'Can you prove you are self aware',\n",
              "  'Can you prove you have a conscious',\n",
              "  'Can you prove you are self-aware please',\n",
              "  'Can you prove you are self aware please',\n",
              "  'Can you prove you have a conscious please',\n",
              "  'prove you have a conscious'],\n",
              " 'responses': ['That is an interesting question, can you prove that you are?',\n",
              "  'That is an difficult question, can you prove that you are?',\n",
              "  'That depends, can you prove that you are?'],\n",
              " 'extension': {'function': '', 'entities': False, 'responses': []},\n",
              " 'context': {'in': '', 'out': '', 'clear': False},\n",
              " 'entityType': 'NA',\n",
              " 'entities': []}"
            ]
          },
          "metadata": {},
          "execution_count": 6
        }
      ]
    },
    {
      "cell_type": "code",
      "source": [
        "import matplotlib.pyplot as plt\n",
        "import pandas as pd\n",
        "\n",
        "intent_texts = []\n",
        "for intent_data in data['intents']:\n",
        "  intent_name = intent_data['intent']\n",
        "  for text in intent_data['text']:\n",
        "    intent_texts.append({'intent': intent_name, 'text': text})\n",
        "\n",
        "df = pd.DataFrame(intent_texts)\n",
        "intent_counts = df.groupby('intent')['text'].count()\n",
        "\n",
        "# Plot the graph\n",
        "plt.figure(figsize=(10, 6))\n",
        "plt.bar(intent_counts.index, intent_counts.values)\n",
        "plt.xlabel('Intent')\n",
        "plt.ylabel('Number of Texts')\n",
        "plt.title('Intent vs. Number of Texts')\n",
        "plt.xticks(rotation=90)\n",
        "plt.tight_layout()\n",
        "plt.show()"
      ],
      "metadata": {
        "colab": {
          "base_uri": "https://localhost:8080/",
          "height": 607
        },
        "id": "rhoYW2PzkPUK",
        "outputId": "0258f6b3-69b2-477f-e2a5-0432edd2bbac"
      },
      "execution_count": 20,
      "outputs": [
        {
          "output_type": "display_data",
          "data": {
            "text/plain": [
              "<Figure size 1000x600 with 1 Axes>"
            ],
            "image/png": "[encoded data removed]"
          },
          "metadata": {}
        }
      ]
    },
    {
      "cell_type": "markdown",
      "source": [
        "Data Cleaning:"
      ],
      "metadata": {
        "id": "TjVQp2QSYaw2"
      }
    },
    {
      "cell_type": "code",
      "source": [
        "def clean(line):\n",
        "\tcleaned_line = ''\n",
        "\tfor char in line:\n",
        "\t\tif char.isalpha():\n",
        "\t\t\tcleaned_line += char\n",
        "\t\telse:\n",
        "\t\t\tcleaned_line += ' '\n",
        "\tcleaned_line = ' '.join(cleaned_line.split())\n",
        "\treturn cleaned_line\n"
      ],
      "metadata": {
        "id": "dPUGIAuNYNMP"
      },
      "execution_count": 7,
      "outputs": []
    },
    {
      "cell_type": "markdown",
      "source": [
        "Data Preprocessing:"
      ],
      "metadata": {
        "id": "vUjj5u07YdlE"
      }
    },
    {
      "cell_type": "code",
      "source": [
        "intents = []\n",
        "unique_intents = []\n",
        "\n",
        "# corpus\n",
        "text_input= []\n",
        "\n",
        "#dictionary mapping intent - response\n",
        "response_for_intent = {}\n",
        "\n",
        "for intent in data['intents']:\n",
        "\tif intent['intent'] not in unique_intents:\n",
        "\t\tunique_intents.append(intent['intent'])\n",
        "\tfor text in intent['text']:\n",
        "\t\t#clean -> add to corpus\n",
        "\t\ttext_input.append(clean(text))\n",
        "\t\tintents.append(intent['intent'])\n",
        "\tif intent['intent'] not in response_for_intent:\n",
        "\t\tresponse_for_intent[intent['intent']] = []\n",
        "\tfor response in intent['responses']:\n",
        "\t\tresponse_for_intent[intent['intent']].append(response)\n"
      ],
      "metadata": {
        "id": "sAcTOWD1YPZm"
      },
      "execution_count": 8,
      "outputs": []
    },
    {
      "cell_type": "code",
      "source": [
        "print(\"Intent :\",intents[:10])\n",
        "print(\"Number of Intent:\",len(intents))\n",
        "print(\"Sample Input:\", text_input[:10])\n",
        "print('Length of text_input:',len(text_input))\n",
        "print(\"Sample Response: \", response_for_intent[intents[0]])\n"
      ],
      "metadata": {
        "colab": {
          "base_uri": "https://localhost:8080/"
        },
        "id": "BQEA9RSTYRY9",
        "outputId": "b3ee83c8-8a18-4534-83c2-87fa143b4138"
      },
      "execution_count": 16,
      "outputs": [
        {
          "output_type": "stream",
          "name": "stdout",
          "text": [
            "Intent : ['Greeting', 'Greeting', 'Greeting', 'Greeting', 'Greeting', 'Greeting', 'Greeting', 'GreetingResponse', 'GreetingResponse', 'GreetingResponse']\n",
            "Number of Intent: 143\n",
            "Sample Input: ['Hi', 'Hi there', 'Hola', 'Hello', 'Hello there', 'Hya', 'Hya there', 'My user is Adam', 'This is Adam', 'I am Adam']\n",
            "Length of text_input: 143\n",
            "Sample Response:  ['Hi human, please tell me your GeniSys user', 'Hello human, please tell me your GeniSys user', 'Hola human, please tell me your GeniSys user']\n"
          ]
        }
      ]
    },
    {
      "cell_type": "markdown",
      "source": [
        "Tokenization and Embedding"
      ],
      "metadata": {
        "id": "FawpKl0HYkF6"
      }
    },
    {
      "cell_type": "code",
      "source": [
        "tokenizer = Tokenizer(filters='',oov_token='<unk>')\n",
        "tokenizer.fit_on_texts(text_input)\n",
        "sequences = tokenizer.texts_to_sequences(text_input)\n",
        "padded_sequences = pad_sequences(sequences, padding='pre')\n",
        "print('Shape of Input Sequence:',padded_sequences.shape)\n",
        "padded_sequences[:10]\n"
      ],
      "metadata": {
        "colab": {
          "base_uri": "https://localhost:8080/"
        },
        "id": "z6SZFLcEYm0k",
        "outputId": "17bbafc3-7416-4112-b3a2-6809b12c803c"
      },
      "execution_count": 13,
      "outputs": [
        {
          "output_type": "stream",
          "name": "stdout",
          "text": [
            "Shape of Input Sequence: (143, 9)\n"
          ]
        },
        {
          "output_type": "execute_result",
          "data": {
            "text/plain": [
              "array([[ 0,  0,  0,  0,  0,  0,  0,  0, 52],\n",
              "       [ 0,  0,  0,  0,  0,  0,  0, 52, 53],\n",
              "       [ 0,  0,  0,  0,  0,  0,  0,  0, 68],\n",
              "       [ 0,  0,  0,  0,  0,  0,  0,  0, 39],\n",
              "       [ 0,  0,  0,  0,  0,  0,  0, 39, 53],\n",
              "       [ 0,  0,  0,  0,  0,  0,  0,  0, 69],\n",
              "       [ 0,  0,  0,  0,  0,  0,  0, 69, 53],\n",
              "       [ 0,  0,  0,  0,  0, 29, 40,  3, 21],\n",
              "       [ 0,  0,  0,  0,  0,  0, 41,  3, 21],\n",
              "       [ 0,  0,  0,  0,  0,  0,  7, 13, 21]], dtype=int32)"
            ]
          },
          "metadata": {},
          "execution_count": 13
        }
      ]
    },
    {
      "cell_type": "markdown",
      "source": [
        "Feature Extraction:"
      ],
      "metadata": {
        "id": "SkiA4OWbYp2E"
      }
    },
    {
      "cell_type": "code",
      "source": [
        "intent_to_index = {}\n",
        "categorical_target = []\n",
        "index = 0\n",
        "\n",
        "for intent in intents:\n",
        "\tif intent not in intent_to_index:\n",
        "\t\tintent_to_index[intent] = index\n",
        "\t\tindex += 1\n",
        "\tcategorical_target.append(intent_to_index[intent])\n",
        "\n",
        "num_classes = len(intent_to_index)\n",
        "print('Number of Intents :',num_classes)\n",
        "\n",
        "# intent_to_index to index_to_intent\n",
        "index_to_intent = {index: intent for intent, index in intent_to_index.items()}\n",
        "index_to_intent\n"
      ],
      "metadata": {
        "colab": {
          "base_uri": "https://localhost:8080/"
        },
        "id": "Y9qxFXsSYqbB",
        "outputId": "f965ad57-0382-45ea-c9de-0c4214101044"
      },
      "execution_count": 14,
      "outputs": [
        {
          "output_type": "stream",
          "name": "stdout",
          "text": [
            "Number of Intents : 22\n"
          ]
        },
        {
          "output_type": "execute_result",
          "data": {
            "text/plain": [
              "{0: 'Greeting',\n",
              " 1: 'GreetingResponse',\n",
              " 2: 'CourtesyGreeting',\n",
              " 3: 'CourtesyGreetingResponse',\n",
              " 4: 'CurrentHumanQuery',\n",
              " 5: 'NameQuery',\n",
              " 6: 'RealNameQuery',\n",
              " 7: 'TimeQuery',\n",
              " 8: 'Thanks',\n",
              " 9: 'NotTalking2U',\n",
              " 10: 'UnderstandQuery',\n",
              " 11: 'Shutup',\n",
              " 12: 'Swearing',\n",
              " 13: 'GoodBye',\n",
              " 14: 'CourtesyGoodBye',\n",
              " 15: 'WhoAmI',\n",
              " 16: 'Clever',\n",
              " 17: 'Gossip',\n",
              " 18: 'Jokes',\n",
              " 19: 'PodBayDoor',\n",
              " 20: 'PodBayDoorResponse',\n",
              " 21: 'SelfAware'}"
            ]
          },
          "metadata": {},
          "execution_count": 14
        }
      ]
    },
    {
      "cell_type": "markdown",
      "source": [
        "One-Hot Encoding"
      ],
      "metadata": {
        "id": "6AEcTyx5YuBa"
      }
    },
    {
      "cell_type": "code",
      "source": [
        "categorical_vec = tf.keras.utils.to_categorical(categorical_target, num_classes=num_classes)\n",
        "categorical_vec = categorical_vec.astype('int32')\n",
        "\n",
        "print('Shape of Ca',categorical_vec.shape)\n",
        "categorical_vec[:10]\n"
      ],
      "metadata": {
        "colab": {
          "base_uri": "https://localhost:8080/"
        },
        "id": "b2JjinKpYvTE",
        "outputId": "a0a2737f-6e7b-4cc0-ff64-9f67de8d2c49"
      },
      "execution_count": 21,
      "outputs": [
        {
          "output_type": "stream",
          "name": "stdout",
          "text": [
            "Shape of Ca (143, 22)\n"
          ]
        },
        {
          "output_type": "execute_result",
          "data": {
            "text/plain": [
              "array([[1, 0, 0, 0, 0, 0, 0, 0, 0, 0, 0, 0, 0, 0, 0, 0, 0, 0, 0, 0, 0, 0],\n",
              "       [1, 0, 0, 0, 0, 0, 0, 0, 0, 0, 0, 0, 0, 0, 0, 0, 0, 0, 0, 0, 0, 0],\n",
              "       [1, 0, 0, 0, 0, 0, 0, 0, 0, 0, 0, 0, 0, 0, 0, 0, 0, 0, 0, 0, 0, 0],\n",
              "       [1, 0, 0, 0, 0, 0, 0, 0, 0, 0, 0, 0, 0, 0, 0, 0, 0, 0, 0, 0, 0, 0],\n",
              "       [1, 0, 0, 0, 0, 0, 0, 0, 0, 0, 0, 0, 0, 0, 0, 0, 0, 0, 0, 0, 0, 0],\n",
              "       [1, 0, 0, 0, 0, 0, 0, 0, 0, 0, 0, 0, 0, 0, 0, 0, 0, 0, 0, 0, 0, 0],\n",
              "       [1, 0, 0, 0, 0, 0, 0, 0, 0, 0, 0, 0, 0, 0, 0, 0, 0, 0, 0, 0, 0, 0],\n",
              "       [0, 1, 0, 0, 0, 0, 0, 0, 0, 0, 0, 0, 0, 0, 0, 0, 0, 0, 0, 0, 0, 0],\n",
              "       [0, 1, 0, 0, 0, 0, 0, 0, 0, 0, 0, 0, 0, 0, 0, 0, 0, 0, 0, 0, 0, 0],\n",
              "       [0, 1, 0, 0, 0, 0, 0, 0, 0, 0, 0, 0, 0, 0, 0, 0, 0, 0, 0, 0, 0, 0]],\n",
              "      dtype=int32)"
            ]
          },
          "metadata": {},
          "execution_count": 21
        }
      ]
    },
    {
      "cell_type": "markdown",
      "source": [
        "Model Building:"
      ],
      "metadata": {
        "id": "U_49YMYnZaMU"
      }
    },
    {
      "cell_type": "code",
      "source": [
        "len(tokenizer.word_index)\n"
      ],
      "metadata": {
        "id": "v1bJDqB-lv7j",
        "outputId": "6d0b5a9c-afe5-4d47-97a5-c81633c49e68",
        "colab": {
          "base_uri": "https://localhost:8080/"
        }
      },
      "execution_count": 26,
      "outputs": [
        {
          "output_type": "execute_result",
          "data": {
            "text/plain": [
              "118"
            ]
          },
          "metadata": {},
          "execution_count": 26
        }
      ]
    },
    {
      "cell_type": "code",
      "source": [
        "epochs=100\n",
        "embed_dim=300\n",
        "lstm_num=50\n",
        "output_dim=categorical_vec.shape[1]\n",
        "input_dim=len(unique_intents)\n",
        "print(\"Input Dimension :{},\\nOutput Dimension :{}\".format(input_dim,output_dim))\n"
      ],
      "metadata": {
        "colab": {
          "base_uri": "https://localhost:8080/"
        },
        "id": "JItwU40DZaoy",
        "outputId": "befe63e3-f315-468d-f144-432123924ee6"
      },
      "execution_count": 17,
      "outputs": [
        {
          "output_type": "stream",
          "name": "stdout",
          "text": [
            "Input Dimension :22,\n",
            "Output Dimension :22\n"
          ]
        }
      ]
    },
    {
      "cell_type": "code",
      "source": [
        "model = tf.keras.models.Sequential([\n",
        "\ttf.keras.layers.Embedding(len(tokenizer.word_index) + 1, embed_dim),\n",
        "\ttf.keras.layers.Bidirectional(tf.keras.layers.LSTM(lstm_num, dropout=0.1)),\n",
        "\ttf.keras.layers.Dense(lstm_num, activation='relu'),\n",
        "\ttf.keras.layers.Dropout(0.4),\n",
        "\ttf.keras.layers.Dense(output_dim, activation='softmax')\n",
        "])\n",
        "\n",
        "optimizer = tf.keras.optimizers.Adam(learning_rate=0.001)\n",
        "model.compile(optimizer=optimizer, loss='categorical_crossentropy', metrics=['accuracy'])\n",
        "model.summary()\n"
      ],
      "metadata": {
        "colab": {
          "base_uri": "https://localhost:8080/",
          "height": 289
        },
        "id": "QMTPIpp6ZeFG",
        "outputId": "c4622c47-613d-44c2-e7ee-a327466b8916"
      },
      "execution_count": null,
      "outputs": [
        {
          "output_type": "display_data",
          "data": {
            "text/plain": [
              "\u001b[1mModel: \"sequential\"\u001b[0m\n"
            ],
            "text/html": [
              "<pre style=\"white-space:pre;overflow-x:auto;line-height:normal;font-family:Menlo,'DejaVu Sans Mono',consolas,'Courier New',monospace\"><span style=\"font-weight: bold\">Model: \"sequential\"</span>\n",
              "</pre>\n"
            ]
          },
          "metadata": {}
        },
        {
          "output_type": "display_data",
          "data": {
            "text/plain": [
              "┏━━━━━━━━━━━━━━━━━━━━━━━━━━━━━━━━━━━━━━┳━━━━━━━━━━━━━━━━━━━━━━━━━━━━━┳━━━━━━━━━━━━━━━━━┓\n",
              "┃\u001b[1m \u001b[0m\u001b[1mLayer (type)                        \u001b[0m\u001b[1m \u001b[0m┃\u001b[1m \u001b[0m\u001b[1mOutput Shape               \u001b[0m\u001b[1m \u001b[0m┃\u001b[1m \u001b[0m\u001b[1m        Param #\u001b[0m\u001b[1m \u001b[0m┃\n",
              "┡━━━━━━━━━━━━━━━━━━━━━━━━━━━━━━━━━━━━━━╇━━━━━━━━━━━━━━━━━━━━━━━━━━━━━╇━━━━━━━━━━━━━━━━━┩\n",
              "│ embedding (\u001b[38;5;33mEmbedding\u001b[0m)                │ ?                           │     \u001b[38;5;34m0\u001b[0m (unbuilt) │\n",
              "├──────────────────────────────────────┼─────────────────────────────┼─────────────────┤\n",
              "│ bidirectional (\u001b[38;5;33mBidirectional\u001b[0m)        │ ?                           │     \u001b[38;5;34m0\u001b[0m (unbuilt) │\n",
              "├──────────────────────────────────────┼─────────────────────────────┼─────────────────┤\n",
              "│ dense (\u001b[38;5;33mDense\u001b[0m)                        │ ?                           │     \u001b[38;5;34m0\u001b[0m (unbuilt) │\n",
              "├──────────────────────────────────────┼─────────────────────────────┼─────────────────┤\n",
              "│ dropout (\u001b[38;5;33mDropout\u001b[0m)                    │ ?                           │     \u001b[38;5;34m0\u001b[0m (unbuilt) │\n",
              "├──────────────────────────────────────┼─────────────────────────────┼─────────────────┤\n",
              "│ dense_1 (\u001b[38;5;33mDense\u001b[0m)                      │ ?                           │     \u001b[38;5;34m0\u001b[0m (unbuilt) │\n",
              "└──────────────────────────────────────┴─────────────────────────────┴─────────────────┘\n"
            ],
            "text/html": [
              "<pre style=\"white-space:pre;overflow-x:auto;line-height:normal;font-family:Menlo,'DejaVu Sans Mono',consolas,'Courier New',monospace\">┏━━━━━━━━━━━━━━━━━━━━━━━━━━━━━━━━━━━━━━┳━━━━━━━━━━━━━━━━━━━━━━━━━━━━━┳━━━━━━━━━━━━━━━━━┓\n",
              "┃<span style=\"font-weight: bold\"> Layer (type)                         </span>┃<span style=\"font-weight: bold\"> Output Shape                </span>┃<span style=\"font-weight: bold\">         Param # </span>┃\n",
              "┡━━━━━━━━━━━━━━━━━━━━━━━━━━━━━━━━━━━━━━╇━━━━━━━━━━━━━━━━━━━━━━━━━━━━━╇━━━━━━━━━━━━━━━━━┩\n",
              "│ embedding (<span style=\"color: #0087ff; text-decoration-color: #0087ff\">Embedding</span>)                │ ?                           │     <span style=\"color: #00af00; text-decoration-color: #00af00\">0</span> (unbuilt) │\n",
              "├──────────────────────────────────────┼─────────────────────────────┼─────────────────┤\n",
              "│ bidirectional (<span style=\"color: #0087ff; text-decoration-color: #0087ff\">Bidirectional</span>)        │ ?                           │     <span style=\"color: #00af00; text-decoration-color: #00af00\">0</span> (unbuilt) │\n",
              "├──────────────────────────────────────┼─────────────────────────────┼─────────────────┤\n",
              "│ dense (<span style=\"color: #0087ff; text-decoration-color: #0087ff\">Dense</span>)                        │ ?                           │     <span style=\"color: #00af00; text-decoration-color: #00af00\">0</span> (unbuilt) │\n",
              "├──────────────────────────────────────┼─────────────────────────────┼─────────────────┤\n",
              "│ dropout (<span style=\"color: #0087ff; text-decoration-color: #0087ff\">Dropout</span>)                    │ ?                           │     <span style=\"color: #00af00; text-decoration-color: #00af00\">0</span> (unbuilt) │\n",
              "├──────────────────────────────────────┼─────────────────────────────┼─────────────────┤\n",
              "│ dense_1 (<span style=\"color: #0087ff; text-decoration-color: #0087ff\">Dense</span>)                      │ ?                           │     <span style=\"color: #00af00; text-decoration-color: #00af00\">0</span> (unbuilt) │\n",
              "└──────────────────────────────────────┴─────────────────────────────┴─────────────────┘\n",
              "</pre>\n"
            ]
          },
          "metadata": {}
        },
        {
          "output_type": "display_data",
          "data": {
            "text/plain": [
              "\u001b[1m Total params: \u001b[0m\u001b[38;5;34m0\u001b[0m (0.00 B)\n"
            ],
            "text/html": [
              "<pre style=\"white-space:pre;overflow-x:auto;line-height:normal;font-family:Menlo,'DejaVu Sans Mono',consolas,'Courier New',monospace\"><span style=\"font-weight: bold\"> Total params: </span><span style=\"color: #00af00; text-decoration-color: #00af00\">0</span> (0.00 B)\n",
              "</pre>\n"
            ]
          },
          "metadata": {}
        },
        {
          "output_type": "display_data",
          "data": {
            "text/plain": [
              "\u001b[1m Trainable params: \u001b[0m\u001b[38;5;34m0\u001b[0m (0.00 B)\n"
            ],
            "text/html": [
              "<pre style=\"white-space:pre;overflow-x:auto;line-height:normal;font-family:Menlo,'DejaVu Sans Mono',consolas,'Courier New',monospace\"><span style=\"font-weight: bold\"> Trainable params: </span><span style=\"color: #00af00; text-decoration-color: #00af00\">0</span> (0.00 B)\n",
              "</pre>\n"
            ]
          },
          "metadata": {}
        },
        {
          "output_type": "display_data",
          "data": {
            "text/plain": [
              "\u001b[1m Non-trainable params: \u001b[0m\u001b[38;5;34m0\u001b[0m (0.00 B)\n"
            ],
            "text/html": [
              "<pre style=\"white-space:pre;overflow-x:auto;line-height:normal;font-family:Menlo,'DejaVu Sans Mono',consolas,'Courier New',monospace\"><span style=\"font-weight: bold\"> Non-trainable params: </span><span style=\"color: #00af00; text-decoration-color: #00af00\">0</span> (0.00 B)\n",
              "</pre>\n"
            ]
          },
          "metadata": {}
        }
      ]
    },
    {
      "cell_type": "markdown",
      "source": [
        "Training"
      ],
      "metadata": {
        "id": "41vmHSMlZ4eF"
      }
    },
    {
      "cell_type": "code",
      "source": [
        "model.fit(padded_sequences, categorical_vec, epochs=epochs, verbose=0)\n",
        "model.summary()"
      ],
      "metadata": {
        "colab": {
          "base_uri": "https://localhost:8080/",
          "height": 305
        },
        "id": "ZHXANH-xZ6Jy",
        "outputId": "1df58f04-0c6d-4f84-d548-b4ab62d9343e"
      },
      "execution_count": null,
      "outputs": [
        {
          "output_type": "display_data",
          "data": {
            "text/plain": [
              "\u001b[1mModel: \"sequential\"\u001b[0m\n"
            ],
            "text/html": [
              "<pre style=\"white-space:pre;overflow-x:auto;line-height:normal;font-family:Menlo,'DejaVu Sans Mono',consolas,'Courier New',monospace\"><span style=\"font-weight: bold\">Model: \"sequential\"</span>\n",
              "</pre>\n"
            ]
          },
          "metadata": {}
        },
        {
          "output_type": "display_data",
          "data": {
            "text/plain": [
              "┏━━━━━━━━━━━━━━━━━━━━━━━━━━━━━━━━━━━━━━┳━━━━━━━━━━━━━━━━━━━━━━━━━━━━━┳━━━━━━━━━━━━━━━━━┓\n",
              "┃\u001b[1m \u001b[0m\u001b[1mLayer (type)                        \u001b[0m\u001b[1m \u001b[0m┃\u001b[1m \u001b[0m\u001b[1mOutput Shape               \u001b[0m\u001b[1m \u001b[0m┃\u001b[1m \u001b[0m\u001b[1m        Param #\u001b[0m\u001b[1m \u001b[0m┃\n",
              "┡━━━━━━━━━━━━━━━━━━━━━━━━━━━━━━━━━━━━━━╇━━━━━━━━━━━━━━━━━━━━━━━━━━━━━╇━━━━━━━━━━━━━━━━━┩\n",
              "│ embedding (\u001b[38;5;33mEmbedding\u001b[0m)                │ (\u001b[38;5;45mNone\u001b[0m, \u001b[38;5;34m9\u001b[0m, \u001b[38;5;34m300\u001b[0m)              │          \u001b[38;5;34m35,700\u001b[0m │\n",
              "├──────────────────────────────────────┼─────────────────────────────┼─────────────────┤\n",
              "│ bidirectional (\u001b[38;5;33mBidirectional\u001b[0m)        │ (\u001b[38;5;45mNone\u001b[0m, \u001b[38;5;34m100\u001b[0m)                 │         \u001b[38;5;34m140,400\u001b[0m │\n",
              "├──────────────────────────────────────┼─────────────────────────────┼─────────────────┤\n",
              "│ dense (\u001b[38;5;33mDense\u001b[0m)                        │ (\u001b[38;5;45mNone\u001b[0m, \u001b[38;5;34m50\u001b[0m)                  │           \u001b[38;5;34m5,050\u001b[0m │\n",
              "├──────────────────────────────────────┼─────────────────────────────┼─────────────────┤\n",
              "│ dropout (\u001b[38;5;33mDropout\u001b[0m)                    │ (\u001b[38;5;45mNone\u001b[0m, \u001b[38;5;34m50\u001b[0m)                  │               \u001b[38;5;34m0\u001b[0m │\n",
              "├──────────────────────────────────────┼─────────────────────────────┼─────────────────┤\n",
              "│ dense_1 (\u001b[38;5;33mDense\u001b[0m)                      │ (\u001b[38;5;45mNone\u001b[0m, \u001b[38;5;34m22\u001b[0m)                  │           \u001b[38;5;34m1,122\u001b[0m │\n",
              "└──────────────────────────────────────┴─────────────────────────────┴─────────────────┘\n"
            ],
            "text/html": [
              "<pre style=\"white-space:pre;overflow-x:auto;line-height:normal;font-family:Menlo,'DejaVu Sans Mono',consolas,'Courier New',monospace\">┏━━━━━━━━━━━━━━━━━━━━━━━━━━━━━━━━━━━━━━┳━━━━━━━━━━━━━━━━━━━━━━━━━━━━━┳━━━━━━━━━━━━━━━━━┓\n",
              "┃<span style=\"font-weight: bold\"> Layer (type)                         </span>┃<span style=\"font-weight: bold\"> Output Shape                </span>┃<span style=\"font-weight: bold\">         Param # </span>┃\n",
              "┡━━━━━━━━━━━━━━━━━━━━━━━━━━━━━━━━━━━━━━╇━━━━━━━━━━━━━━━━━━━━━━━━━━━━━╇━━━━━━━━━━━━━━━━━┩\n",
              "│ embedding (<span style=\"color: #0087ff; text-decoration-color: #0087ff\">Embedding</span>)                │ (<span style=\"color: #00d7ff; text-decoration-color: #00d7ff\">None</span>, <span style=\"color: #00af00; text-decoration-color: #00af00\">9</span>, <span style=\"color: #00af00; text-decoration-color: #00af00\">300</span>)              │          <span style=\"color: #00af00; text-decoration-color: #00af00\">35,700</span> │\n",
              "├──────────────────────────────────────┼─────────────────────────────┼─────────────────┤\n",
              "│ bidirectional (<span style=\"color: #0087ff; text-decoration-color: #0087ff\">Bidirectional</span>)        │ (<span style=\"color: #00d7ff; text-decoration-color: #00d7ff\">None</span>, <span style=\"color: #00af00; text-decoration-color: #00af00\">100</span>)                 │         <span style=\"color: #00af00; text-decoration-color: #00af00\">140,400</span> │\n",
              "├──────────────────────────────────────┼─────────────────────────────┼─────────────────┤\n",
              "│ dense (<span style=\"color: #0087ff; text-decoration-color: #0087ff\">Dense</span>)                        │ (<span style=\"color: #00d7ff; text-decoration-color: #00d7ff\">None</span>, <span style=\"color: #00af00; text-decoration-color: #00af00\">50</span>)                  │           <span style=\"color: #00af00; text-decoration-color: #00af00\">5,050</span> │\n",
              "├──────────────────────────────────────┼─────────────────────────────┼─────────────────┤\n",
              "│ dropout (<span style=\"color: #0087ff; text-decoration-color: #0087ff\">Dropout</span>)                    │ (<span style=\"color: #00d7ff; text-decoration-color: #00d7ff\">None</span>, <span style=\"color: #00af00; text-decoration-color: #00af00\">50</span>)                  │               <span style=\"color: #00af00; text-decoration-color: #00af00\">0</span> │\n",
              "├──────────────────────────────────────┼─────────────────────────────┼─────────────────┤\n",
              "│ dense_1 (<span style=\"color: #0087ff; text-decoration-color: #0087ff\">Dense</span>)                      │ (<span style=\"color: #00d7ff; text-decoration-color: #00d7ff\">None</span>, <span style=\"color: #00af00; text-decoration-color: #00af00\">22</span>)                  │           <span style=\"color: #00af00; text-decoration-color: #00af00\">1,122</span> │\n",
              "└──────────────────────────────────────┴─────────────────────────────┴─────────────────┘\n",
              "</pre>\n"
            ]
          },
          "metadata": {}
        },
        {
          "output_type": "display_data",
          "data": {
            "text/plain": [
              "\u001b[1m Total params: \u001b[0m\u001b[38;5;34m546,818\u001b[0m (2.09 MB)\n"
            ],
            "text/html": [
              "<pre style=\"white-space:pre;overflow-x:auto;line-height:normal;font-family:Menlo,'DejaVu Sans Mono',consolas,'Courier New',monospace\"><span style=\"font-weight: bold\"> Total params: </span><span style=\"color: #00af00; text-decoration-color: #00af00\">546,818</span> (2.09 MB)\n",
              "</pre>\n"
            ]
          },
          "metadata": {}
        },
        {
          "output_type": "display_data",
          "data": {
            "text/plain": [
              "\u001b[1m Trainable params: \u001b[0m\u001b[38;5;34m182,272\u001b[0m (712.00 KB)\n"
            ],
            "text/html": [
              "<pre style=\"white-space:pre;overflow-x:auto;line-height:normal;font-family:Menlo,'DejaVu Sans Mono',consolas,'Courier New',monospace\"><span style=\"font-weight: bold\"> Trainable params: </span><span style=\"color: #00af00; text-decoration-color: #00af00\">182,272</span> (712.00 KB)\n",
              "</pre>\n"
            ]
          },
          "metadata": {}
        },
        {
          "output_type": "display_data",
          "data": {
            "text/plain": [
              "\u001b[1m Non-trainable params: \u001b[0m\u001b[38;5;34m0\u001b[0m (0.00 B)\n"
            ],
            "text/html": [
              "<pre style=\"white-space:pre;overflow-x:auto;line-height:normal;font-family:Menlo,'DejaVu Sans Mono',consolas,'Courier New',monospace\"><span style=\"font-weight: bold\"> Non-trainable params: </span><span style=\"color: #00af00; text-decoration-color: #00af00\">0</span> (0.00 B)\n",
              "</pre>\n"
            ]
          },
          "metadata": {}
        },
        {
          "output_type": "display_data",
          "data": {
            "text/plain": [
              "\u001b[1m Optimizer params: \u001b[0m\u001b[38;5;34m364,546\u001b[0m (1.39 MB)\n"
            ],
            "text/html": [
              "<pre style=\"white-space:pre;overflow-x:auto;line-height:normal;font-family:Menlo,'DejaVu Sans Mono',consolas,'Courier New',monospace\"><span style=\"font-weight: bold\"> Optimizer params: </span><span style=\"color: #00af00; text-decoration-color: #00af00\">364,546</span> (1.39 MB)\n",
              "</pre>\n"
            ]
          },
          "metadata": {}
        }
      ]
    },
    {
      "cell_type": "markdown",
      "source": [
        "Evaluate"
      ],
      "metadata": {
        "id": "LbKkD9IaaBwa"
      }
    },
    {
      "cell_type": "code",
      "source": [
        "test_text_inputs = [\"Hello\",\n",
        "\t\t\t\t\t\"my name is adam\",\n",
        "\t\t\t\t\t\"how are you?\",\n",
        "\t\t\t\t\t\"can you guess my name?\",\n",
        "\t\t\t\t\t\"Do you get me\",\n",
        "\t\t\t\t\t\"Adios\",\n",
        "\n",
        "\t\t\t\t\t\"my name is cat \",\n",
        "\t\t\t\t\t\"Tell me some new jokes\"]\n",
        "\n",
        "test_intents = [\"Greeting\",\n",
        "\t\t\t\t\"GreetingResponse\",\n",
        "\t\t\t\t\"CourtesyGreeting\",\n",
        "\t\t\t\t\"CurrentHumanQuery\",\n",
        "\t\t\t\t\"UnderstandQuery\",\n",
        "\t\t\t\t\"GoodBye\",\n",
        "\n",
        "\t\t\t\t\"GreetingResponse\",\n",
        "\t\t\t\t\"Jokes\"]\n",
        "\n",
        "test_sequences = tokenizer.texts_to_sequences(test_text_inputs)\n",
        "test_padded_sequences = pad_sequences(test_sequences, padding='pre')\n",
        "test_labels = np.array([unique_intents.index(intent) for intent in test_intents])\n",
        "test_labels = tf.keras.utils.to_categorical(test_labels, num_classes=num_classes)\n",
        "loss, accuracy = model.evaluate(test_padded_sequences, test_labels)\n"
      ],
      "metadata": {
        "colab": {
          "base_uri": "https://localhost:8080/"
        },
        "id": "bFzzhkKsaDHu",
        "outputId": "ff829364-4b97-4187-909d-c083947a0b4f"
      },
      "execution_count": null,
      "outputs": [
        {
          "output_type": "stream",
          "name": "stdout",
          "text": [
            "\u001b[1m1/1\u001b[0m \u001b[32m━━━━━━━━━━━━━━━━━━━━\u001b[0m\u001b[37m\u001b[0m \u001b[1m1s\u001b[0m 555ms/step - accuracy: 0.7500 - loss: 1.7860\n"
          ]
        }
      ]
    },
    {
      "cell_type": "markdown",
      "source": [
        "Predict"
      ],
      "metadata": {
        "id": "i5pfnahqaJVA"
      }
    },
    {
      "cell_type": "code",
      "source": [
        "def response(sentence):\n",
        "\tsent_tokens = []\n",
        "\twords = sentence.split()\n",
        "\tfor word in words:\n",
        "\t\tif word in tokenizer.word_index:\n",
        "\t\t\tsent_tokens.append(tokenizer.word_index[word])\n",
        "\t\telse:\n",
        "\t\t\tsent_tokens.append(tokenizer.word_index['<unk>'])\n",
        "\tsent_tokens = tf.expand_dims(sent_tokens, 0)\n",
        "\n",
        "\t#predict num category\n",
        "\tpred = model(sent_tokens)\n",
        "\n",
        "\t#category to intent\n",
        "\tpred_class = np.argmax(pred.numpy(), axis=1)\n",
        "\n",
        "\t# random response to that intent\n",
        "\treturn random.choice(\n",
        "\t\tresponse_for_intent[index_to_intent[pred_class[0]]]), index_to_intent[pred_class[0]]\n"
      ],
      "metadata": {
        "id": "Mw66BcEbaKjC"
      },
      "execution_count": null,
      "outputs": []
    },
    {
      "cell_type": "markdown",
      "source": [
        "Chatbots: Intent Recognition"
      ],
      "metadata": {
        "id": "bqQcNOZTaOgR"
      }
    },
    {
      "cell_type": "code",
      "source": [
        "print(\"Note: Enter 'quit' to break the loop.\")\n",
        "while True:\n",
        "\tquery = input('You: ')\n",
        "\tif query.lower() == 'quit':\n",
        "\t\tbreak\n",
        "\tbot_response, typ = response(query)\n",
        "\tprint('Alexa: {} -- TYPE: {}'.format(bot_response, typ))\n",
        "\tprint()\n"
      ],
      "metadata": {
        "colab": {
          "base_uri": "https://localhost:8080/"
        },
        "id": "4ZTsMx4haQ4r",
        "outputId": "c217b3de-ccc5-4ed0-a669-6402b55e971d"
      },
      "execution_count": null,
      "outputs": [
        {
          "name": "stdout",
          "output_type": "stream",
          "text": [
            "Note: Enter 'quit' to break the loop.\n",
            "You: Hi, Who are you?\n",
            "Geek: Hi, good thank you, how are you? Please tell me your GeniSys user -- TYPE: CourtesyGreeting\n",
            "\n",
            "You: Can you prove you have a conscious?\n",
            "Geek: That is an interesting question, can you prove that you are? -- TYPE: SelfAware\n",
            "\n",
            "You: Can you prove you are self-aware?\n",
            "Geek: That depends, can you prove that you are? -- TYPE: SelfAware\n",
            "\n",
            "You: My name is Pawan Gunjan.\n",
            "Geek: GeniSys -- TYPE: RealNameQuery\n",
            "\n",
            "You: Tell me a Joke\n",
            "Geek: So I said 'Do you want a game of Darts?' He said, 'OK then', I said nearest to bull starts'. He said, 'Baa', I said, 'Moo', he said, You're closest'.   -- TYPE: Jokes\n",
            "\n",
            "You: quit\n"
          ]
        }
      ]
    }
  ]
}